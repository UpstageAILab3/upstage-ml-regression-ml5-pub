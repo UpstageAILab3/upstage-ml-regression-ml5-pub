{
 "cells": [
  {
   "cell_type": "markdown",
   "metadata": {},
   "source": [
    "# 지하철 피처 추가"
   ]
  },
  {
   "cell_type": "code",
   "execution_count": null,
   "metadata": {},
   "outputs": [],
   "source": [
    "import pandas as pd\n",
    "\n",
    "subway_df = pd.read_csv('./data/subway_feature.csv')\n",
    "print(subway_df.info())\n",
    "print(subway_df.head(3))"
   ]
  },
  {
   "cell_type": "code",
   "execution_count": null,
   "metadata": {},
   "outputs": [],
   "source": [
    "apartment_df = pd.read_csv('./data/newXY_for_test.csv')\n",
    "print(apartment_df.shape)\n",
    "print(apartment_df.info())\n",
    "print(apartment_df.head(3))"
   ]
  },
  {
   "cell_type": "code",
   "execution_count": null,
   "metadata": {},
   "outputs": [],
   "source": [
    "import pandas as pd\n",
    "import numpy as np\n",
    "from scipy.spatial import cKDTree\n",
    "\n",
    "def haversine_distance(lat1, lon1, lat2, lon2):\n",
    "    R = 6371  # 지구의 반경 (km)\n",
    "    lat1, lon1, lat2, lon2 = map(np.radians, [lat1, lon1, lat2, lon2])\n",
    "    dlat = lat2 - lat1\n",
    "    dlon = lon2 - lon1\n",
    "    a = np.sin(dlat/2)**2 + np.cos(lat1) * np.cos(lat2) * np.sin(dlon/2)**2\n",
    "    c = 2 * np.arctan2(np.sqrt(a), np.sqrt(1-a))\n",
    "    distance = R * c\n",
    "    return distance * 1000  # 미터 단위로 변환\n",
    "\n",
    "def walking_time(distance):\n",
    "    return distance / (4000/60)  # 4km/h의 걷는 속도 가정\n",
    "\n",
    "def add_subway_features(apartment_df, subway_df):\n",
    "    apartment_coords = apartment_df[['좌표Y_2', '좌표X_2']].values\n",
    "    station_coords = subway_df[['위도', '경도']].values\n",
    "\n",
    "    # 가장 가까운 3개의 역 찾기\n",
    "    tree = cKDTree(station_coords)\n",
    "    distances, indices = tree.query(apartment_coords, k=3)\n",
    "\n",
    "    for i in range(3):\n",
    "        apartment_df[f'{i+1}번째_가까운_역_이름'] = subway_df.loc[indices[:, i], '역사명'].values\n",
    "        apartment_df[f'{i+1}번째_가까운_역_호선'] = subway_df.loc[indices[:, i], '호선'].values\n",
    "        apartment_df[f'{i+1}번째_가까운_역_거리'] = np.array([haversine_distance(ac[0], ac[1], station_coords[idx][0], station_coords[idx][1]) \n",
    "                                                   for ac, idx in zip(apartment_coords, indices[:, i])])\n",
    "        apartment_df[f'{i+1}번째_가까운_역_도보시간'] = walking_time(apartment_df[f'{i+1}번째_가까운_역_거리'])\n",
    "\n",
    "    # 시간대별 역 개수 계산\n",
    "    def count_stations_in_time_range(min_time, max_time):\n",
    "        min_dist = min_time * (4000/60)\n",
    "        max_dist = max_time * (4000/60)\n",
    "        return np.array([np.sum((min_dist < haversine_distance(c[0], c[1], station_coords[:, 0], station_coords[:, 1])) & \n",
    "                                (haversine_distance(c[0], c[1], station_coords[:, 0], station_coords[:, 1]) <= max_dist)) \n",
    "                         for c in apartment_coords])\n",
    "\n",
    "    apartment_df['5분이하_역_개수'] = count_stations_in_time_range(0, 5)\n",
    "    apartment_df['5분초과_10분이하_역_개수'] = count_stations_in_time_range(5, 10)\n",
    "    apartment_df['10분초과_15분이하_역_개수'] = count_stations_in_time_range(10, 15)\n",
    "    apartment_df['15분초과_20분이하_역_개수'] = count_stations_in_time_range(15, 20)\n",
    "\n",
    "    return apartment_df"
   ]
  },
  {
   "cell_type": "code",
   "execution_count": null,
   "metadata": {},
   "outputs": [],
   "source": [
    "merged_apartment_df = add_subway_features(apartment_df, subway_df)"
   ]
  },
  {
   "cell_type": "code",
   "execution_count": null,
   "metadata": {},
   "outputs": [],
   "source": [
    "print(merged_apartment_df.shape)\n",
    "print(merged_apartment_df.info())\n",
    "print(merged_apartment_df.head(3))"
   ]
  },
  {
   "cell_type": "code",
   "execution_count": null,
   "metadata": {},
   "outputs": [],
   "source": [
    "from dataprep.eda import create_report\n",
    "\n",
    "report = create_report(merged_apartment_df)\n",
    "report.save('Test Subway Dataset')"
   ]
  },
  {
   "cell_type": "code",
   "execution_count": null,
   "metadata": {},
   "outputs": [],
   "source": [
    "import os\n",
    "merged_subway_path = os.path.join('preprocessed', 'test_with_subway_infos.csv')\n",
    "merged_apartment_df.to_csv(merged_subway_path, index=False)"
   ]
  },
  {
   "cell_type": "code",
   "execution_count": null,
   "metadata": {},
   "outputs": [],
   "source": [
    "confirm_df = pd.read_csv(merged_subway_path)\n",
    "print(confirm_df.shape)\n",
    "print(confirm_df.info())\n",
    "print(confirm_df.head(3))"
   ]
  },
  {
   "cell_type": "markdown",
   "metadata": {},
   "source": [
    "## 버스 피처 추가"
   ]
  },
  {
   "cell_type": "code",
   "execution_count": null,
   "metadata": {},
   "outputs": [],
   "source": [
    "import pandas as pd\n",
    "\n",
    "bus_df = pd.read_csv('./data/bus_feature.csv')\n",
    "print(bus_df.info())\n",
    "print(bus_df.head(3))"
   ]
  },
  {
   "cell_type": "code",
   "execution_count": null,
   "metadata": {},
   "outputs": [],
   "source": [
    "len(bus_df['정류소명'].unique())"
   ]
  },
  {
   "cell_type": "code",
   "execution_count": null,
   "metadata": {},
   "outputs": [],
   "source": [
    "# NaN 값 처리와 함께 '정류소'열 생성\n",
    "bus_df['정류소'] = bus_df['정류소번호'].fillna('').astype(str) + '_' + bus_df['정류소명'].fillna('')\n",
    "\n",
    "print(bus_df.info())\n",
    "print(bus_df.head(3))\n",
    "\n",
    "len(bus_df['정류소'].unique())"
   ]
  },
  {
   "cell_type": "code",
   "execution_count": null,
   "metadata": {},
   "outputs": [],
   "source": [
    "apartment_df = pd.read_csv('./data/newXY_for_train.csv')\n",
    "print(apartment_df.shape)\n",
    "print(apartment_df.info())\n",
    "print(apartment_df.head(3))"
   ]
  },
  {
   "cell_type": "code",
   "execution_count": null,
   "metadata": {},
   "outputs": [],
   "source": [
    "import pandas as pd\n",
    "import numpy as np\n",
    "from scipy.spatial import cKDTree\n",
    "\n",
    "def haversine_distance(lat1, lon1, lat2, lon2):\n",
    "    R = 6371  # 지구의 반경 (km)\n",
    "    lat1, lon1, lat2, lon2 = map(np.radians, [lat1, lon1, lat2, lon2])\n",
    "    dlat = lat2 - lat1\n",
    "    dlon = lon2 - lon1\n",
    "    a = np.sin(dlat/2)**2 + np.cos(lat1) * np.cos(lat2) * np.sin(dlon/2)**2\n",
    "    c = 2 * np.arctan2(np.sqrt(a), np.sqrt(1-a))\n",
    "    distance = R * c\n",
    "    return distance * 1000  # 미터 단위로 변환\n",
    "\n",
    "def walking_time(distance):\n",
    "    return distance / (4000/60)  # 4km/h의 걷는 속도 가정\n",
    "\n",
    "def add_bus_stop_features(apartment_df, bus_df):\n",
    "    apartment_coords = apartment_df[['좌표Y_2', '좌표X_2']].values\n",
    "    bus_stop_coords = bus_df[['Y좌표', 'X좌표']].values\n",
    "\n",
    "    tree = cKDTree(bus_stop_coords)\n",
    "    distances, indices = tree.query(apartment_coords, k=3)\n",
    "\n",
    "    for i in range(3):\n",
    "        apartment_df[f'{i+1}번째_가까운_버스정류장_이름'] = bus_df.loc[indices[:, i], '정류소'].values\n",
    "        apartment_df[f'{i+1}번째_가까운_버스정류장_거리'] = np.array([haversine_distance(ac[0], ac[1], bus_stop_coords[idx][0], bus_stop_coords[idx][1]) \n",
    "                                                   for ac, idx in zip(apartment_coords, indices[:, i])])\n",
    "        apartment_df[f'{i+1}번째_가까운_버스정류장_도보시간'] = walking_time(apartment_df[f'{i+1}번째_가까운_버스정류장_거리'])\n",
    "\n",
    "    def count_bus_stops_in_time_range(min_time, max_time):\n",
    "        min_dist = min_time * (4000/60)\n",
    "        max_dist = max_time * (4000/60)\n",
    "        return np.array([np.sum((min_dist < haversine_distance(c[0], c[1], bus_stop_coords[:, 0], bus_stop_coords[:, 1])) & \n",
    "                                (haversine_distance(c[0], c[1], bus_stop_coords[:, 0], bus_stop_coords[:, 1]) <= max_dist)) \n",
    "                         for c in apartment_coords])\n",
    "\n",
    "    apartment_df['5분이하_버스정류장_개수'] = count_bus_stops_in_time_range(0, 5)\n",
    "    apartment_df['5분초과_10분이하_버스정류장_개수'] = count_bus_stops_in_time_range(5, 10)\n",
    "    apartment_df['10분초과_15분이하_버스정류장_개수'] = count_bus_stops_in_time_range(10, 15)\n",
    "\n",
    "    return apartment_df"
   ]
  },
  {
   "cell_type": "code",
   "execution_count": null,
   "metadata": {},
   "outputs": [],
   "source": [
    "merged_apartment_df = add_bus_stop_features(apartment_df, bus_df)"
   ]
  },
  {
   "cell_type": "code",
   "execution_count": null,
   "metadata": {},
   "outputs": [],
   "source": [
    "print(merged_apartment_df.shape)\n",
    "print(merged_apartment_df.info())\n",
    "print(merged_apartment_df.head(3))"
   ]
  },
  {
   "cell_type": "code",
   "execution_count": null,
   "metadata": {},
   "outputs": [],
   "source": [
    "from dataprep.eda import create_report\n",
    "\n",
    "report = create_report(merged_apartment_df)\n",
    "report.save('Train Bus Dataset')"
   ]
  },
  {
   "cell_type": "code",
   "execution_count": null,
   "metadata": {},
   "outputs": [],
   "source": [
    "import os\n",
    "merged_bus_path = os.path.join('preprocessed', 'train_with_bus_infos.csv')\n",
    "merged_apartment_df.to_csv(merged_bus_path, index=False)"
   ]
  },
  {
   "cell_type": "code",
   "execution_count": null,
   "metadata": {},
   "outputs": [],
   "source": [
    "confirm_df = pd.read_csv(merged_bus_path)\n",
    "print(confirm_df.shape)\n",
    "print(confirm_df.info())\n",
    "print(confirm_df.head(3))"
   ]
  }
 ],
 "metadata": {
  "kernelspec": {
   "display_name": "base",
   "language": "python",
   "name": "python3"
  },
  "language_info": {
   "codemirror_mode": {
    "name": "ipython",
    "version": 3
   },
   "file_extension": ".py",
   "mimetype": "text/x-python",
   "name": "python",
   "nbconvert_exporter": "python",
   "pygments_lexer": "ipython3",
   "version": "3.10.13"
  }
 },
 "nbformat": 4,
 "nbformat_minor": 2
}
